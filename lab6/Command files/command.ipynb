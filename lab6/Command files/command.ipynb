{
 "cells": [
  {
   "cell_type": "code",
   "execution_count": 109,
   "metadata": {},
   "outputs": [],
   "source": [
    "import pandas as pd\n",
    "from matplotlib import pyplot as plt\n",
    "\n",
    "data = r'C:\\Users\\Acer\\OneDrive\\Pulpit\\STUDIA1\\sem5\\AiBD\\lab6\\Analysis Data/'\n"
   ]
  },
  {
   "cell_type": "code",
   "execution_count": 110,
   "metadata": {},
   "outputs": [
    {
     "name": "stdout",
     "output_type": "stream",
     "text": [
      "     Unnamed: 0  Dni od zakupu       Marka  Wiek kupującego Płeć kupującego  \\\n",
      "0             0              7        Beko             33.0               M   \n",
      "1             1              7        Beko             55.0             bd.   \n",
      "2             2             10        Beko             50.0               M   \n",
      "3             3             11       Tefal             36.0               M   \n",
      "4             4              3        Beko             62.0               K   \n",
      "..          ...            ...         ...              ...             ...   \n",
      "461         461              8        Beko             19.0               M   \n",
      "462         462              9  Electrolux             50.0               K   \n",
      "463         463              9        Beko              NaN               K   \n",
      "464         464              5       Tefal             41.0               M   \n",
      "465         465             11        Beko             61.0               M   \n",
      "\n",
      "     Ocena  \n",
      "0      3.0  \n",
      "1      3.0  \n",
      "2      2.0  \n",
      "3      2.5  \n",
      "4      2.5  \n",
      "..     ...  \n",
      "461    2.5  \n",
      "462    3.0  \n",
      "463    2.0  \n",
      "464    3.0  \n",
      "465    1.0  \n",
      "\n",
      "[466 rows x 6 columns]\n"
     ]
    }
   ],
   "source": [
    "# oryginalna tabela z danymi\n",
    "\n",
    "tb_original_ = pd.read_csv(f\"{data}12_SWIETOKRZYSKIE.csv\", sep=',')\n",
    "print(tb_original_)"
   ]
  },
  {
   "cell_type": "code",
   "execution_count": 111,
   "metadata": {},
   "outputs": [
    {
     "name": "stdout",
     "output_type": "stream",
     "text": [
      "          Marka  Ocena Płeć kupującego\n",
      "0          Beko    3.0               M\n",
      "1          Beko    3.0             bd.\n",
      "2          Beko    2.0               M\n",
      "3         Tefal    2.5               M\n",
      "4          Beko    2.5               K\n",
      "..          ...    ...             ...\n",
      "461        Beko    2.5               M\n",
      "462  Electrolux    3.0               K\n",
      "463        Beko    2.0               K\n",
      "464       Tefal    3.0               M\n",
      "465        Beko    1.0               M\n",
      "\n",
      "[466 rows x 3 columns]\n"
     ]
    }
   ],
   "source": [
    "ocena_marki = tb_original_[['Marka','Ocena', 'Płeć kupującego']]\n",
    "# ocena_marki_bez_dupli = ocena_marki.drop_duplicates(subset='Marka')\n",
    "print(ocena_marki)\n",
    "ocena_marki.to_csv(path_or_buf=f\"{data}ocena_marki.csv\", sep=\";\")\n"
   ]
  },
  {
   "cell_type": "markdown",
   "metadata": {},
   "source": [
    "***BEKO***"
   ]
  },
  {
   "cell_type": "code",
   "execution_count": 151,
   "metadata": {},
   "outputs": [
    {
     "name": "stdout",
     "output_type": "stream",
     "text": [
      "Srednia ocena kobiet marki Beko:\n",
      " Ocena    2.460674\n",
      "dtype: float64\n",
      "Srednia ocena mezczyz marki Beko:\n",
      " Ocena    2.441718\n",
      "dtype: float64\n",
      "Brak danych:\n",
      " Ocena    2.464789\n",
      "dtype: float64\n",
      "    Marka  Ocena Płeć kupującego\n",
      "4    Beko    2.5               K\n",
      "12   Beko    1.5               K\n",
      "14   Beko    3.0               K\n",
      "31   Beko    3.0               K\n",
      "33   Beko    0.5               K\n",
      "..    ...    ...             ...\n",
      "415  Beko    4.0               K\n",
      "417  Beko    1.0               K\n",
      "428  Beko    3.5               K\n",
      "458  Beko    4.0               K\n",
      "463  Beko    2.0               K\n",
      "\n",
      "[89 rows x 3 columns]\n",
      "    Marka  Ocena Płeć kupującego\n",
      "0    Beko    3.0               M\n",
      "2    Beko    2.0               M\n",
      "6    Beko    2.0               M\n",
      "10   Beko    3.5               M\n",
      "17   Beko    3.0               M\n",
      "..    ...    ...             ...\n",
      "455  Beko    1.0               M\n",
      "456  Beko    1.0               M\n",
      "457  Beko    2.5               M\n",
      "461  Beko    2.5               M\n",
      "465  Beko    1.0               M\n",
      "\n",
      "[163 rows x 3 columns]\n",
      "    Marka  Ocena Płeć kupującego\n",
      "1    Beko    3.0             bd.\n",
      "7    Beko    2.0             bd.\n",
      "8    Beko    3.0             bd.\n",
      "13   Beko    2.5             bd.\n",
      "29   Beko    2.5             bd.\n",
      "..    ...    ...             ...\n",
      "436  Beko    3.5             bd.\n",
      "448  Beko    0.5             bd.\n",
      "453  Beko    5.0             bd.\n",
      "454  Beko    1.5             bd.\n",
      "460  Beko    2.5             bd.\n",
      "\n",
      "[71 rows x 3 columns]\n"
     ]
    },
    {
     "name": "stderr",
     "output_type": "stream",
     "text": [
      "C:\\Users\\Acer\\AppData\\Local\\Temp/ipykernel_8408/4092633701.py:12: FutureWarning: The default value of numeric_only in DataFrame.mean is deprecated. In a future version, it will default to False. In addition, specifying 'numeric_only=None' is deprecated. Select only valid columns or specify the value of numeric_only to silence this warning.\n",
      "  plt.bar(x_1, ocena_kobiety.mean(), color = 'm')\n",
      "C:\\Users\\Acer\\AppData\\Local\\Temp/ipykernel_8408/4092633701.py:13: FutureWarning: The default value of numeric_only in DataFrame.mean is deprecated. In a future version, it will default to False. In addition, specifying 'numeric_only=None' is deprecated. Select only valid columns or specify the value of numeric_only to silence this warning.\n",
      "  plt.bar(x_2, ocena_mezczyz.mean(), color = 'b')\n",
      "C:\\Users\\Acer\\AppData\\Local\\Temp/ipykernel_8408/4092633701.py:14: FutureWarning: The default value of numeric_only in DataFrame.mean is deprecated. In a future version, it will default to False. In addition, specifying 'numeric_only=None' is deprecated. Select only valid columns or specify the value of numeric_only to silence this warning.\n",
      "  plt.bar(x_3, ocena_bd.mean(), color = 'r')\n",
      "C:\\Users\\Acer\\AppData\\Local\\Temp/ipykernel_8408/4092633701.py:20: FutureWarning: The default value of numeric_only in DataFrame.mean is deprecated. In a future version, it will default to False. In addition, specifying 'numeric_only=None' is deprecated. Select only valid columns or specify the value of numeric_only to silence this warning.\n",
      "  print('Srednia ocena kobiet marki Beko:\\n',ocena_kobiety.mean())\n",
      "C:\\Users\\Acer\\AppData\\Local\\Temp/ipykernel_8408/4092633701.py:21: FutureWarning: The default value of numeric_only in DataFrame.mean is deprecated. In a future version, it will default to False. In addition, specifying 'numeric_only=None' is deprecated. Select only valid columns or specify the value of numeric_only to silence this warning.\n",
      "  print('Srednia ocena mezczyz marki Beko:\\n',ocena_mezczyz.mean())\n",
      "C:\\Users\\Acer\\AppData\\Local\\Temp/ipykernel_8408/4092633701.py:22: FutureWarning: The default value of numeric_only in DataFrame.mean is deprecated. In a future version, it will default to False. In addition, specifying 'numeric_only=None' is deprecated. Select only valid columns or specify the value of numeric_only to silence this warning.\n",
      "  print('Brak danych:\\n',ocena_bd.mean())\n"
     ]
    },
    {
     "data": {
      "image/png": "[encoded data removed]",
      "text/plain": [
       "<Figure size 432x288 with 1 Axes>"
      ]
     },
     "metadata": {
      "needs_background": "light"
     },
     "output_type": "display_data"
    }
   ],
   "source": [
    "beko = ocena_marki[ocena_marki['Marka']=='Beko']\n",
    "\n",
    "ocena_kobiety = beko[beko['Płeć kupującego']=='K']\n",
    "ocena_mezczyz = beko[beko['Płeć kupującego']=='M']\n",
    "ocena_bd = beko[beko['Płeć kupującego']=='bd.']\n",
    "\n",
    "x = ['Kobiety', 'Mezczyzni', 'Brak danych']\n",
    "x_1 = ['Kobiety']\n",
    "x_2 = ['Mezczyzni']\n",
    "x_3 = ['Brak danych']\n",
    "\n",
    "plt.bar(x_1, ocena_kobiety.mean(), color = 'm')\n",
    "plt.bar(x_2, ocena_mezczyz.mean(), color = 'b')\n",
    "plt.bar(x_3, ocena_bd.mean(), color = 'r')\n",
    "\n",
    "plt.title(\"Ocena marki beko ze wzgledu na plec\")\n",
    "plt.ylabel(\"Srednia ocena\")\n",
    "plt.grid()\n",
    "\n",
    "print('Srednia ocena kobiet marki Beko:\\n',ocena_kobiety.mean())\n",
    "print('Srednia ocena mezczyz marki Beko:\\n',ocena_mezczyz.mean())\n",
    "print('Brak danych:\\n',ocena_bd.mean())\n",
    "\n",
    "print(ocena_kobiety)\n",
    "print(ocena_mezczyz)\n",
    "print(ocena_bd)\n",
    "\n",
    "ocena_kobiety.to_csv(path_or_buf=f\"{data}BEKO_ocena_kobiety.csv\", sep=\";\")\n",
    "ocena_mezczyz.to_csv(path_or_buf=f\"{data}BEKO_ocena_mezczyz.csv\", sep=\";\")\n",
    "ocena_bd.to_csv(path_or_buf=f\"{data}BEKO_ocena_bd.csv\", sep=\";\")\n",
    "\n",
    "\n"
   ]
  },
  {
   "cell_type": "code",
   "execution_count": 188,
   "metadata": {},
   "outputs": [
    {
     "name": "stdout",
     "output_type": "stream",
     "text": [
      "Wiek kupującego    39.1625\n",
      "dtype: float64\n",
      "Wiek kupującego    39.944056\n",
      "dtype: float64\n",
      "Wiek kupującego    39.602941\n",
      "dtype: float64\n"
     ]
    },
    {
     "name": "stderr",
     "output_type": "stream",
     "text": [
      "C:\\Users\\Acer\\AppData\\Local\\Temp/ipykernel_8408/2689542433.py:11: FutureWarning: The default value of numeric_only in DataFrame.mean is deprecated. In a future version, it will default to False. In addition, specifying 'numeric_only=None' is deprecated. Select only valid columns or specify the value of numeric_only to silence this warning.\n",
      "  sr_wiek_k = wiek_kobiety.mean()\n",
      "C:\\Users\\Acer\\AppData\\Local\\Temp/ipykernel_8408/2689542433.py:12: FutureWarning: The default value of numeric_only in DataFrame.mean is deprecated. In a future version, it will default to False. In addition, specifying 'numeric_only=None' is deprecated. Select only valid columns or specify the value of numeric_only to silence this warning.\n",
      "  sr_wiek_m = wiek_mezczyz.mean()\n",
      "C:\\Users\\Acer\\AppData\\Local\\Temp/ipykernel_8408/2689542433.py:13: FutureWarning: The default value of numeric_only in DataFrame.mean is deprecated. In a future version, it will default to False. In addition, specifying 'numeric_only=None' is deprecated. Select only valid columns or specify the value of numeric_only to silence this warning.\n",
      "  sr_wiek_bd = wiek_bd.mean()\n"
     ]
    },
    {
     "data": {
      "image/png": "[encoded data removed]",
      "text/plain": [
       "<Figure size 432x288 with 1 Axes>"
      ]
     },
     "metadata": {},
     "output_type": "display_data"
    }
   ],
   "source": [
    "# #Sredni wiek\n",
    "marka = tb_original_[['Marka','Wiek kupującego', 'Płeć kupującego']]\n",
    "beko_wiek = marka[marka['Marka']=='Beko']\n",
    "wiek_kobiety = beko_wiek[beko_wiek['Płeć kupującego']=='K']\n",
    "wiek_mezczyz = beko_wiek[beko_wiek['Płeć kupującego']=='M']\n",
    "wiek_bd = beko_wiek[beko_wiek['Płeć kupującego']=='bd.']\n",
    "wiek_kobiety.to_csv(path_or_buf=f\"{data}BEKO_wiek_kobiety.csv\", sep=\";\")\n",
    "wiek_mezczyz.to_csv(path_or_buf=f\"{data}BEKO_wiek_mezczy.csv\", sep=\";\")\n",
    "wiek_bd.to_csv(path_or_buf=f\"{data}BEKO_wiek_b.csv\", sep=\";\")\n",
    "\n",
    "sr_wiek_k = wiek_kobiety.mean()\n",
    "sr_wiek_m = wiek_mezczyz.mean()\n",
    "sr_wiek_bd = wiek_bd.mean()\n",
    "print(sr_wiek_k)\n",
    "print(sr_wiek_m)\n",
    "print(sr_wiek_bd)\n",
    "\n",
    "\n",
    "values = [39.1625, 39.944056, 39.602941]\n",
    "labels = ['Kobiety', 'Mezczyzni', 'Brak Danych']\n",
    "plt.pie(values, labels=labels, autopct='%1.3f%%')\n",
    "plt.title(\"Procentowy wiek\")\n",
    "plt.show()\n"
   ]
  },
  {
   "cell_type": "markdown",
   "metadata": {},
   "source": [
    "***TEFAL***"
   ]
  },
  {
   "cell_type": "code",
   "execution_count": 113,
   "metadata": {},
   "outputs": [
    {
     "name": "stdout",
     "output_type": "stream",
     "text": [
      "Srednia ocena kobiet marki Tefal:\n",
      " Ocena    2.166667\n",
      "dtype: float64\n",
      "Srednia ocena mezczyz marki Tefal:\n",
      " Ocena    1.92\n",
      "dtype: float64\n",
      "Brak danych:\n",
      " Ocena    2.6875\n",
      "dtype: float64\n",
      "     Marka  Ocena Płeć kupującego\n",
      "30   Tefal    1.0               K\n",
      "87   Tefal    1.5               K\n",
      "139  Tefal    2.5               K\n",
      "141  Tefal    1.5               K\n",
      "176  Tefal    4.0               K\n",
      "221  Tefal    2.5               K\n",
      "255  Tefal    2.5               K\n",
      "264  Tefal    1.5               K\n",
      "285  Tefal    4.0               K\n",
      "325  Tefal    2.5               K\n",
      "404  Tefal    2.5               K\n",
      "408  Tefal    2.0               K\n",
      "409  Tefal    1.0               K\n",
      "414  Tefal    2.5               K\n",
      "419  Tefal    1.0               K\n",
      "     Marka  Ocena Płeć kupującego\n",
      "3    Tefal    2.5               M\n",
      "11   Tefal    2.0               M\n",
      "15   Tefal    3.0               M\n",
      "20   Tefal    2.5               M\n",
      "25   Tefal    1.5               M\n",
      "32   Tefal    4.0               M\n",
      "40   Tefal    1.5               M\n",
      "45   Tefal    1.0               M\n",
      "75   Tefal    1.0               M\n",
      "78   Tefal    1.0               M\n",
      "98   Tefal    1.5               M\n",
      "100  Tefal    2.5               M\n",
      "116  Tefal    0.5               M\n",
      "126  Tefal    1.5               M\n",
      "131  Tefal    1.5               M\n",
      "164  Tefal    1.0               M\n",
      "175  Tefal    2.0               M\n",
      "223  Tefal    3.0               M\n",
      "238  Tefal    1.5               M\n",
      "291  Tefal    0.5               M\n",
      "308  Tefal    1.5               M\n",
      "372  Tefal    2.5               M\n",
      "386  Tefal    3.5               M\n",
      "459  Tefal    2.0               M\n",
      "464  Tefal    3.0               M\n",
      "     Marka  Ocena Płeć kupującego\n",
      "34   Tefal    2.0             bd.\n",
      "52   Tefal    2.0             bd.\n",
      "63   Tefal    3.5             bd.\n",
      "259  Tefal    2.0             bd.\n",
      "268  Tefal    2.5             bd.\n",
      "287  Tefal    2.5             bd.\n",
      "432  Tefal    5.0             bd.\n",
      "445  Tefal    2.0             bd.\n"
     ]
    },
    {
     "name": "stderr",
     "output_type": "stream",
     "text": [
      "C:\\Users\\Acer\\AppData\\Local\\Temp/ipykernel_8408/4215382737.py:12: FutureWarning: The default value of numeric_only in DataFrame.mean is deprecated. In a future version, it will default to False. In addition, specifying 'numeric_only=None' is deprecated. Select only valid columns or specify the value of numeric_only to silence this warning.\n",
      "  plt.bar(x_1, ocena_kobiety.mean(), color = 'm')\n",
      "C:\\Users\\Acer\\AppData\\Local\\Temp/ipykernel_8408/4215382737.py:13: FutureWarning: The default value of numeric_only in DataFrame.mean is deprecated. In a future version, it will default to False. In addition, specifying 'numeric_only=None' is deprecated. Select only valid columns or specify the value of numeric_only to silence this warning.\n",
      "  plt.bar(x_2, ocena_mezczyz.mean(), color = 'b')\n",
      "C:\\Users\\Acer\\AppData\\Local\\Temp/ipykernel_8408/4215382737.py:14: FutureWarning: The default value of numeric_only in DataFrame.mean is deprecated. In a future version, it will default to False. In addition, specifying 'numeric_only=None' is deprecated. Select only valid columns or specify the value of numeric_only to silence this warning.\n",
      "  plt.bar(x_3, ocena_bd.mean(), color = 'r')\n",
      "C:\\Users\\Acer\\AppData\\Local\\Temp/ipykernel_8408/4215382737.py:20: FutureWarning: The default value of numeric_only in DataFrame.mean is deprecated. In a future version, it will default to False. In addition, specifying 'numeric_only=None' is deprecated. Select only valid columns or specify the value of numeric_only to silence this warning.\n",
      "  print('Srednia ocena kobiet marki Tefal:\\n',ocena_kobiety.mean())\n",
      "C:\\Users\\Acer\\AppData\\Local\\Temp/ipykernel_8408/4215382737.py:21: FutureWarning: The default value of numeric_only in DataFrame.mean is deprecated. In a future version, it will default to False. In addition, specifying 'numeric_only=None' is deprecated. Select only valid columns or specify the value of numeric_only to silence this warning.\n",
      "  print('Srednia ocena mezczyz marki Tefal:\\n',ocena_mezczyz.mean())\n",
      "C:\\Users\\Acer\\AppData\\Local\\Temp/ipykernel_8408/4215382737.py:22: FutureWarning: The default value of numeric_only in DataFrame.mean is deprecated. In a future version, it will default to False. In addition, specifying 'numeric_only=None' is deprecated. Select only valid columns or specify the value of numeric_only to silence this warning.\n",
      "  print('Brak danych:\\n',ocena_bd.mean())\n"
     ]
    },
    {
     "data": {
      "image/png": "[encoded data removed]",
      "text/plain": [
       "<Figure size 432x288 with 1 Axes>"
      ]
     },
     "metadata": {
      "needs_background": "light"
     },
     "output_type": "display_data"
    }
   ],
   "source": [
    "tefal = ocena_marki[ocena_marki['Marka']=='Tefal']\n",
    "\n",
    "ocena_kobiety = tefal[tefal['Płeć kupującego']=='K']\n",
    "ocena_mezczyz = tefal[tefal['Płeć kupującego']=='M']\n",
    "ocena_bd = tefal[tefal['Płeć kupującego']=='bd.']\n",
    "\n",
    "x = ['Kobiety', 'Mezczyzni', 'Brak danych']\n",
    "x_1 = ['Kobiety']\n",
    "x_2 = ['Mezczyzni']\n",
    "x_3 = ['Brak danych']\n",
    "\n",
    "plt.bar(x_1, ocena_kobiety.mean(), color = 'm')\n",
    "plt.bar(x_2, ocena_mezczyz.mean(), color = 'b')\n",
    "plt.bar(x_3, ocena_bd.mean(), color = 'r')\n",
    "\n",
    "plt.title(\"Ocena marki tefal ze wzgledu na plec\")\n",
    "plt.ylabel(\"Srednia ocena\")\n",
    "plt.grid()\n",
    "\n",
    "print('Srednia ocena kobiet marki Tefal:\\n',ocena_kobiety.mean())\n",
    "print('Srednia ocena mezczyz marki Tefal:\\n',ocena_mezczyz.mean())\n",
    "print('Brak danych:\\n',ocena_bd.mean())\n",
    "\n",
    "print(ocena_kobiety)\n",
    "print(ocena_mezczyz)\n",
    "print(ocena_bd)\n",
    "\n",
    "ocena_kobiety.to_csv(path_or_buf=f\"{data}Tefal_ocena_kobiety.csv\", sep=\";\")\n",
    "ocena_mezczyz.to_csv(path_or_buf=f\"{data}Tefal_ocena_mezczyz.csv\", sep=\";\")\n",
    "ocena_bd.to_csv(path_or_buf=f\"{data}Tefal_ocena_bd.csv\", sep=\";\")"
   ]
  },
  {
   "cell_type": "code",
   "execution_count": 189,
   "metadata": {},
   "outputs": [
    {
     "name": "stdout",
     "output_type": "stream",
     "text": [
      "Wiek kupującego    39.076923\n",
      "dtype: float64\n",
      "Wiek kupującego    40.208333\n",
      "dtype: float64\n",
      "Wiek kupującego    45.125\n",
      "dtype: float64\n"
     ]
    },
    {
     "name": "stderr",
     "output_type": "stream",
     "text": [
      "C:\\Users\\Acer\\AppData\\Local\\Temp/ipykernel_8408/4273311610.py:11: FutureWarning: The default value of numeric_only in DataFrame.mean is deprecated. In a future version, it will default to False. In addition, specifying 'numeric_only=None' is deprecated. Select only valid columns or specify the value of numeric_only to silence this warning.\n",
      "  sr_wiek_k = wiek_kobiety.mean()\n",
      "C:\\Users\\Acer\\AppData\\Local\\Temp/ipykernel_8408/4273311610.py:12: FutureWarning: The default value of numeric_only in DataFrame.mean is deprecated. In a future version, it will default to False. In addition, specifying 'numeric_only=None' is deprecated. Select only valid columns or specify the value of numeric_only to silence this warning.\n",
      "  sr_wiek_m = wiek_mezczyz.mean()\n",
      "C:\\Users\\Acer\\AppData\\Local\\Temp/ipykernel_8408/4273311610.py:13: FutureWarning: The default value of numeric_only in DataFrame.mean is deprecated. In a future version, it will default to False. In addition, specifying 'numeric_only=None' is deprecated. Select only valid columns or specify the value of numeric_only to silence this warning.\n",
      "  sr_wiek_bd = wiek_bd.mean()\n"
     ]
    },
    {
     "data": {
      "image/png": "[encoded data removed]",
      "text/plain": [
       "<Figure size 432x288 with 1 Axes>"
      ]
     },
     "metadata": {},
     "output_type": "display_data"
    }
   ],
   "source": [
    "# #Sredni wiek\n",
    "marka = tb_original_[['Marka','Wiek kupującego', 'Płeć kupującego']]\n",
    "tefal_wiek = marka[marka['Marka']=='Tefal']\n",
    "wiek_kobiety = tefal_wiek[tefal_wiek['Płeć kupującego']=='K']\n",
    "wiek_mezczyz = tefal_wiek[tefal_wiek['Płeć kupującego']=='M']\n",
    "wiek_bd = tefal_wiek[tefal_wiek['Płeć kupującego']=='bd.']\n",
    "wiek_kobiety.to_csv(path_or_buf=f\"{data}TEFAL_wiek_kobiety.csv\", sep=\";\")\n",
    "wiek_mezczyz.to_csv(path_or_buf=f\"{data}TEFAL_wiek_mezczy.csv\", sep=\";\")\n",
    "wiek_bd.to_csv(path_or_buf=f\"{data}TEFAL_wiek_b.csv\", sep=\";\")\n",
    "\n",
    "sr_wiek_k = wiek_kobiety.mean()\n",
    "sr_wiek_m = wiek_mezczyz.mean()\n",
    "sr_wiek_bd = wiek_bd.mean()\n",
    "print(sr_wiek_k)\n",
    "print(sr_wiek_m)\n",
    "print(sr_wiek_bd)\n",
    "\n",
    "\n",
    "values = [39.076923, 40.208333, 45.125]\n",
    "labels = ['Kobiety', 'Mezczyzni', 'Brak Danych']\n",
    "plt.pie(values, labels=labels, autopct='%1.3f%%')\n",
    "plt.title(\"Procentowy wiek\")\n",
    "plt.show()"
   ]
  },
  {
   "cell_type": "markdown",
   "metadata": {},
   "source": [
    "***ELECTROLUX***"
   ]
  },
  {
   "cell_type": "code",
   "execution_count": 114,
   "metadata": {},
   "outputs": [
    {
     "name": "stderr",
     "output_type": "stream",
     "text": [
      "C:\\Users\\Acer\\AppData\\Local\\Temp/ipykernel_8408/2417387595.py:12: FutureWarning: The default value of numeric_only in DataFrame.mean is deprecated. In a future version, it will default to False. In addition, specifying 'numeric_only=None' is deprecated. Select only valid columns or specify the value of numeric_only to silence this warning.\n",
      "  plt.bar(x_1, ocena_kobiety.mean(), color = 'm')\n",
      "C:\\Users\\Acer\\AppData\\Local\\Temp/ipykernel_8408/2417387595.py:13: FutureWarning: The default value of numeric_only in DataFrame.mean is deprecated. In a future version, it will default to False. In addition, specifying 'numeric_only=None' is deprecated. Select only valid columns or specify the value of numeric_only to silence this warning.\n",
      "  plt.bar(x_2, ocena_mezczyz.mean(), color = 'b')\n",
      "C:\\Users\\Acer\\AppData\\Local\\Temp/ipykernel_8408/2417387595.py:14: FutureWarning: The default value of numeric_only in DataFrame.mean is deprecated. In a future version, it will default to False. In addition, specifying 'numeric_only=None' is deprecated. Select only valid columns or specify the value of numeric_only to silence this warning.\n",
      "  plt.bar(x_3, ocena_bd.mean(), color = 'r')\n",
      "C:\\Users\\Acer\\AppData\\Local\\Temp/ipykernel_8408/2417387595.py:20: FutureWarning: The default value of numeric_only in DataFrame.mean is deprecated. In a future version, it will default to False. In addition, specifying 'numeric_only=None' is deprecated. Select only valid columns or specify the value of numeric_only to silence this warning.\n",
      "  print('Srednia ocena kobiet marki Electrolux:\\n',ocena_kobiety.mean())\n",
      "C:\\Users\\Acer\\AppData\\Local\\Temp/ipykernel_8408/2417387595.py:21: FutureWarning: The default value of numeric_only in DataFrame.mean is deprecated. In a future version, it will default to False. In addition, specifying 'numeric_only=None' is deprecated. Select only valid columns or specify the value of numeric_only to silence this warning.\n",
      "  print('Srednia ocena mezczyz marki Electrolux:\\n',ocena_mezczyz.mean())\n",
      "C:\\Users\\Acer\\AppData\\Local\\Temp/ipykernel_8408/2417387595.py:22: FutureWarning: The default value of numeric_only in DataFrame.mean is deprecated. In a future version, it will default to False. In addition, specifying 'numeric_only=None' is deprecated. Select only valid columns or specify the value of numeric_only to silence this warning.\n",
      "  print('Brak danych:\\n',ocena_bd.mean())\n"
     ]
    },
    {
     "name": "stdout",
     "output_type": "stream",
     "text": [
      "Srednia ocena kobiet marki Electrolux:\n",
      " Ocena    2.333333\n",
      "dtype: float64\n",
      "Srednia ocena mezczyz marki Electrolux:\n",
      " Ocena    2.222222\n",
      "dtype: float64\n",
      "Brak danych:\n",
      " Ocena    2.5\n",
      "dtype: float64\n"
     ]
    },
    {
     "data": {
      "image/png": "[encoded data removed]",
      "text/plain": [
       "<Figure size 432x288 with 1 Axes>"
      ]
     },
     "metadata": {
      "needs_background": "light"
     },
     "output_type": "display_data"
    }
   ],
   "source": [
    "electrolux = ocena_marki[ocena_marki['Marka']=='Electrolux']\n",
    "\n",
    "ocena_kobiety = electrolux[electrolux['Płeć kupującego']=='K']\n",
    "ocena_mezczyz = electrolux[electrolux['Płeć kupującego']=='M']\n",
    "ocena_bd = electrolux[electrolux['Płeć kupującego']=='bd.']\n",
    "\n",
    "x = ['Kobiety', 'Mezczyzni', 'Brak danych']\n",
    "x_1 = ['Kobiety']\n",
    "x_2 = ['Mezczyzni']\n",
    "x_3 = ['Brak danych']\n",
    "\n",
    "plt.bar(x_1, ocena_kobiety.mean(), color = 'm')\n",
    "plt.bar(x_2, ocena_mezczyz.mean(), color = 'b')\n",
    "plt.bar(x_3, ocena_bd.mean(), color = 'r')\n",
    "\n",
    "plt.title(\"Ocena marki electrolux ze wzgledu na plec\")\n",
    "plt.ylabel(\"Srednia ocena\")\n",
    "plt.grid()\n",
    "\n",
    "print('Srednia ocena kobiet marki Electrolux:\\n',ocena_kobiety.mean())\n",
    "print('Srednia ocena mezczyz marki Electrolux:\\n',ocena_mezczyz.mean())\n",
    "print('Brak danych:\\n',ocena_bd.mean())\n",
    "\n",
    "ocena_kobiety.to_csv(path_or_buf=f\"{data}Electrolux_ocena_kobiety.csv\", sep=\";\")\n",
    "ocena_mezczyz.to_csv(path_or_buf=f\"{data}Electrolux_ocena_mezczyz.csv\", sep=\";\")\n",
    "ocena_bd.to_csv(path_or_buf=f\"{data}Electrolux_ocena_bd.csv\", sep=\";\")"
   ]
  },
  {
   "cell_type": "code",
   "execution_count": 190,
   "metadata": {},
   "outputs": [
    {
     "name": "stderr",
     "output_type": "stream",
     "text": [
      "C:\\Users\\Acer\\AppData\\Local\\Temp/ipykernel_8408/2322338127.py:12: FutureWarning: The default value of numeric_only in DataFrame.mean is deprecated. In a future version, it will default to False. In addition, specifying 'numeric_only=None' is deprecated. Select only valid columns or specify the value of numeric_only to silence this warning.\n",
      "  sr_wiek_k = wiek_kobiety.mean()\n",
      "C:\\Users\\Acer\\AppData\\Local\\Temp/ipykernel_8408/2322338127.py:13: FutureWarning: The default value of numeric_only in DataFrame.mean is deprecated. In a future version, it will default to False. In addition, specifying 'numeric_only=None' is deprecated. Select only valid columns or specify the value of numeric_only to silence this warning.\n",
      "  sr_wiek_m = wiek_mezczyz.mean()\n",
      "C:\\Users\\Acer\\AppData\\Local\\Temp/ipykernel_8408/2322338127.py:14: FutureWarning: The default value of numeric_only in DataFrame.mean is deprecated. In a future version, it will default to False. In addition, specifying 'numeric_only=None' is deprecated. Select only valid columns or specify the value of numeric_only to silence this warning.\n",
      "  sr_wiek_bd = wiek_bd.mean()\n"
     ]
    },
    {
     "name": "stdout",
     "output_type": "stream",
     "text": [
      "Wiek kupującego    40.625\n",
      "dtype: float64\n",
      "Wiek kupującego    41.76\n",
      "dtype: float64\n",
      "Wiek kupującego    38.333333\n",
      "dtype: float64\n"
     ]
    },
    {
     "data": {
      "image/png": "[encoded data removed]",
      "text/plain": [
       "<Figure size 432x288 with 1 Axes>"
      ]
     },
     "metadata": {},
     "output_type": "display_data"
    }
   ],
   "source": [
    "# #Sredni wiek\n",
    "marka = tb_original_[['Marka','Wiek kupującego', 'Płeć kupującego']]\n",
    "Electrolux_wiek = marka[marka['Marka']=='Electrolux']\n",
    "wiek_kobiety = Electrolux_wiek[Electrolux_wiek['Płeć kupującego']=='K']\n",
    "wiek_mezczyz = Electrolux_wiek[Electrolux_wiek['Płeć kupującego']=='M']\n",
    "wiek_bd = Electrolux_wiek[Electrolux_wiek['Płeć kupującego']=='bd.']\n",
    "\n",
    "wiek_kobiety.to_csv(path_or_buf=f\"{data}ELECROLUX_wiek_kobiety.csv\", sep=\";\")\n",
    "wiek_mezczyz.to_csv(path_or_buf=f\"{data}ELECTROLUX_wiek_mezczy.csv\", sep=\";\")\n",
    "wiek_bd.to_csv(path_or_buf=f\"{data}ELECTROLUX_wiek_bd.csv\", sep=\";\")\n",
    "\n",
    "sr_wiek_k = wiek_kobiety.mean()\n",
    "sr_wiek_m = wiek_mezczyz.mean()\n",
    "sr_wiek_bd = wiek_bd.mean()\n",
    "print(sr_wiek_k)\n",
    "print(sr_wiek_m)\n",
    "print(sr_wiek_bd)\n",
    "\n",
    "\n",
    "values = [40.625, 41.76, 38.333333]\n",
    "labels = ['Kobiety', 'Mezczyzni', 'Brak Danych']\n",
    "plt.pie(values, labels=labels, autopct='%1.3f%%')\n",
    "plt.title(\"Procentowy wiek\")\n",
    "plt.show()"
   ]
  },
  {
   "cell_type": "markdown",
   "metadata": {},
   "source": [
    "***SAMSUNG***"
   ]
  },
  {
   "cell_type": "code",
   "execution_count": 115,
   "metadata": {},
   "outputs": [
    {
     "name": "stdout",
     "output_type": "stream",
     "text": [
      "Srednia ocena kobiet marki Samsung:\n",
      " Ocena    2.9\n",
      "dtype: float64\n",
      "Srednia ocena mezczyz marki Samsung:\n",
      " Ocena    2.428571\n",
      "dtype: float64\n",
      "Brak danych:\n",
      " Ocena    2.5\n",
      "dtype: float64\n"
     ]
    },
    {
     "name": "stderr",
     "output_type": "stream",
     "text": [
      "C:\\Users\\Acer\\AppData\\Local\\Temp/ipykernel_8408/3677398080.py:12: FutureWarning: The default value of numeric_only in DataFrame.mean is deprecated. In a future version, it will default to False. In addition, specifying 'numeric_only=None' is deprecated. Select only valid columns or specify the value of numeric_only to silence this warning.\n",
      "  plt.bar(x_1, ocena_kobiety.mean(), color = 'm')\n",
      "C:\\Users\\Acer\\AppData\\Local\\Temp/ipykernel_8408/3677398080.py:13: FutureWarning: The default value of numeric_only in DataFrame.mean is deprecated. In a future version, it will default to False. In addition, specifying 'numeric_only=None' is deprecated. Select only valid columns or specify the value of numeric_only to silence this warning.\n",
      "  plt.bar(x_2, ocena_mezczyz.mean(), color = 'b')\n",
      "C:\\Users\\Acer\\AppData\\Local\\Temp/ipykernel_8408/3677398080.py:14: FutureWarning: The default value of numeric_only in DataFrame.mean is deprecated. In a future version, it will default to False. In addition, specifying 'numeric_only=None' is deprecated. Select only valid columns or specify the value of numeric_only to silence this warning.\n",
      "  plt.bar(x_3, ocena_bd.mean(), color = 'r')\n",
      "C:\\Users\\Acer\\AppData\\Local\\Temp/ipykernel_8408/3677398080.py:20: FutureWarning: The default value of numeric_only in DataFrame.mean is deprecated. In a future version, it will default to False. In addition, specifying 'numeric_only=None' is deprecated. Select only valid columns or specify the value of numeric_only to silence this warning.\n",
      "  print('Srednia ocena kobiet marki Samsung:\\n',ocena_kobiety.mean())\n",
      "C:\\Users\\Acer\\AppData\\Local\\Temp/ipykernel_8408/3677398080.py:21: FutureWarning: The default value of numeric_only in DataFrame.mean is deprecated. In a future version, it will default to False. In addition, specifying 'numeric_only=None' is deprecated. Select only valid columns or specify the value of numeric_only to silence this warning.\n",
      "  print('Srednia ocena mezczyz marki Samsung:\\n',ocena_mezczyz.mean())\n",
      "C:\\Users\\Acer\\AppData\\Local\\Temp/ipykernel_8408/3677398080.py:22: FutureWarning: The default value of numeric_only in DataFrame.mean is deprecated. In a future version, it will default to False. In addition, specifying 'numeric_only=None' is deprecated. Select only valid columns or specify the value of numeric_only to silence this warning.\n",
      "  print('Brak danych:\\n',ocena_bd.mean())\n"
     ]
    },
    {
     "data": {
      "image/png": "[encoded data removed]",
      "text/plain": [
       "<Figure size 432x288 with 1 Axes>"
      ]
     },
     "metadata": {
      "needs_background": "light"
     },
     "output_type": "display_data"
    }
   ],
   "source": [
    "samsung = ocena_marki[ocena_marki['Marka']=='Samsung']\n",
    "\n",
    "ocena_kobiety = samsung[samsung['Płeć kupującego']=='K']\n",
    "ocena_mezczyz = samsung[samsung['Płeć kupującego']=='M']\n",
    "ocena_bd = samsung[samsung['Płeć kupującego']=='bd.']\n",
    "\n",
    "x = ['Kobiety', 'Mezczyzni', 'Brak danych']\n",
    "x_1 = ['Kobiety']\n",
    "x_2 = ['Mezczyzni']\n",
    "x_3 = ['Brak danych']\n",
    "\n",
    "plt.bar(x_1, ocena_kobiety.mean(), color = 'm')\n",
    "plt.bar(x_2, ocena_mezczyz.mean(), color = 'b')\n",
    "plt.bar(x_3, ocena_bd.mean(), color = 'r')\n",
    "\n",
    "plt.title(\"Ocena marki samsung ze wzgledu na plec\")\n",
    "plt.ylabel(\"Srednia ocena\")\n",
    "plt.grid()\n",
    "\n",
    "print('Srednia ocena kobiet marki Samsung:\\n',ocena_kobiety.mean())\n",
    "print('Srednia ocena mezczyz marki Samsung:\\n',ocena_mezczyz.mean())\n",
    "print('Brak danych:\\n',ocena_bd.mean())\n",
    "\n",
    "ocena_kobiety.to_csv(path_or_buf=f\"{data}Samsung_ocena_kobiety.csv\", sep=\";\")\n",
    "ocena_mezczyz.to_csv(path_or_buf=f\"{data}Samsung_ocena_mezczyz.csv\", sep=\";\")\n",
    "ocena_bd.to_csv(path_or_buf=f\"{data}Samsung_ocena_bd.csv\", sep=\";\")"
   ]
  },
  {
   "cell_type": "code",
   "execution_count": 191,
   "metadata": {},
   "outputs": [
    {
     "name": "stdout",
     "output_type": "stream",
     "text": [
      "Wiek kupującego    34.25\n",
      "dtype: float64\n",
      "Wiek kupującego    42.857143\n",
      "dtype: float64\n",
      "Wiek kupującego    35.0\n",
      "dtype: float64\n"
     ]
    },
    {
     "name": "stderr",
     "output_type": "stream",
     "text": [
      "C:\\Users\\Acer\\AppData\\Local\\Temp/ipykernel_8408/1616448923.py:11: FutureWarning: The default value of numeric_only in DataFrame.mean is deprecated. In a future version, it will default to False. In addition, specifying 'numeric_only=None' is deprecated. Select only valid columns or specify the value of numeric_only to silence this warning.\n",
      "  sr_wiek_k = wiek_kobiety.mean()\n",
      "C:\\Users\\Acer\\AppData\\Local\\Temp/ipykernel_8408/1616448923.py:12: FutureWarning: The default value of numeric_only in DataFrame.mean is deprecated. In a future version, it will default to False. In addition, specifying 'numeric_only=None' is deprecated. Select only valid columns or specify the value of numeric_only to silence this warning.\n",
      "  sr_wiek_m = wiek_mezczyz.mean()\n",
      "C:\\Users\\Acer\\AppData\\Local\\Temp/ipykernel_8408/1616448923.py:13: FutureWarning: The default value of numeric_only in DataFrame.mean is deprecated. In a future version, it will default to False. In addition, specifying 'numeric_only=None' is deprecated. Select only valid columns or specify the value of numeric_only to silence this warning.\n",
      "  sr_wiek_bd = wiek_bd.mean()\n"
     ]
    },
    {
     "data": {
      "image/png": "[encoded data removed]",
      "text/plain": [
       "<Figure size 432x288 with 1 Axes>"
      ]
     },
     "metadata": {},
     "output_type": "display_data"
    }
   ],
   "source": [
    "marka = tb_original_[['Marka','Wiek kupującego', 'Płeć kupującego']]\n",
    "Samsung_wiek = marka[marka['Marka']=='Samsung']\n",
    "wiek_kobiety = Samsung_wiek[Samsung_wiek['Płeć kupującego']=='K']\n",
    "wiek_mezczyz = Samsung_wiek[Samsung_wiek['Płeć kupującego']=='M']\n",
    "wiek_bd = Samsung_wiek[Samsung_wiek['Płeć kupującego']=='bd.']\n",
    "\n",
    "wiek_kobiety.to_csv(path_or_buf=f\"{data}SAMSUNG_wiek_kobiety.csv\", sep=\";\")\n",
    "wiek_mezczyz.to_csv(path_or_buf=f\"{data}SAMSUNG_wiek_mezczy.csv\", sep=\";\")\n",
    "wiek_bd.to_csv(path_or_buf=f\"{data}SAMSUNG_wiek_bd.csv\", sep=\";\")\n",
    "\n",
    "sr_wiek_k = wiek_kobiety.mean()\n",
    "sr_wiek_m = wiek_mezczyz.mean()\n",
    "sr_wiek_bd = wiek_bd.mean()\n",
    "print(sr_wiek_k)\n",
    "print(sr_wiek_m)\n",
    "print(sr_wiek_bd)\n",
    "\n",
    "\n",
    "values = [34.25, 42.857143, 35.0]\n",
    "labels = ['Kobiety', 'Mezczyzni', 'Brak Danych']\n",
    "plt.pie(values, labels=labels, autopct='%1.3f%%')\n",
    "plt.title(\"Procentowy wiek\")\n",
    "plt.show()"
   ]
  },
  {
   "cell_type": "markdown",
   "metadata": {},
   "source": [
    "***DYSON***"
   ]
  },
  {
   "cell_type": "code",
   "execution_count": 116,
   "metadata": {},
   "outputs": [
    {
     "name": "stderr",
     "output_type": "stream",
     "text": [
      "C:\\Users\\Acer\\AppData\\Local\\Temp/ipykernel_8408/1555770288.py:12: FutureWarning: The default value of numeric_only in DataFrame.mean is deprecated. In a future version, it will default to False. In addition, specifying 'numeric_only=None' is deprecated. Select only valid columns or specify the value of numeric_only to silence this warning.\n",
      "  plt.bar(x_1, ocena_kobiety.mean(), color = 'm')\n",
      "C:\\Users\\Acer\\AppData\\Local\\Temp/ipykernel_8408/1555770288.py:13: FutureWarning: The default value of numeric_only in DataFrame.mean is deprecated. In a future version, it will default to False. In addition, specifying 'numeric_only=None' is deprecated. Select only valid columns or specify the value of numeric_only to silence this warning.\n",
      "  plt.bar(x_2, ocena_mezczyz.mean(), color = 'b')\n",
      "C:\\Users\\Acer\\AppData\\Local\\Temp/ipykernel_8408/1555770288.py:14: FutureWarning: The default value of numeric_only in DataFrame.mean is deprecated. In a future version, it will default to False. In addition, specifying 'numeric_only=None' is deprecated. Select only valid columns or specify the value of numeric_only to silence this warning.\n",
      "  plt.bar(x_3, ocena_bd.mean(), color = 'r')\n",
      "C:\\Users\\Acer\\AppData\\Local\\Temp/ipykernel_8408/1555770288.py:20: FutureWarning: The default value of numeric_only in DataFrame.mean is deprecated. In a future version, it will default to False. In addition, specifying 'numeric_only=None' is deprecated. Select only valid columns or specify the value of numeric_only to silence this warning.\n",
      "  print('Srednia ocena kobiet marki Dyson:\\n',ocena_kobiety.mean())\n",
      "C:\\Users\\Acer\\AppData\\Local\\Temp/ipykernel_8408/1555770288.py:21: FutureWarning: The default value of numeric_only in DataFrame.mean is deprecated. In a future version, it will default to False. In addition, specifying 'numeric_only=None' is deprecated. Select only valid columns or specify the value of numeric_only to silence this warning.\n",
      "  print('Srednia ocena mezczyz marki Dyson:\\n',ocena_mezczyz.mean())\n"
     ]
    },
    {
     "name": "stdout",
     "output_type": "stream",
     "text": [
      "Srednia ocena kobiet marki Dyson:\n",
      " Ocena    2.083333\n",
      "dtype: float64\n",
      "Srednia ocena mezczyz marki Dyson:\n",
      " Ocena    2.875\n",
      "dtype: float64\n",
      "Brak danych:\n",
      " Ocena    2.416667\n",
      "dtype: float64\n"
     ]
    },
    {
     "name": "stderr",
     "output_type": "stream",
     "text": [
      "C:\\Users\\Acer\\AppData\\Local\\Temp/ipykernel_8408/1555770288.py:22: FutureWarning: The default value of numeric_only in DataFrame.mean is deprecated. In a future version, it will default to False. In addition, specifying 'numeric_only=None' is deprecated. Select only valid columns or specify the value of numeric_only to silence this warning.\n",
      "  print('Brak danych:\\n',ocena_bd.mean())\n"
     ]
    },
    {
     "data": {
      "image/png": "[encoded data removed]",
      "text/plain": [
       "<Figure size 432x288 with 1 Axes>"
      ]
     },
     "metadata": {
      "needs_background": "light"
     },
     "output_type": "display_data"
    }
   ],
   "source": [
    "dyson = ocena_marki[ocena_marki['Marka']=='Dyson']\n",
    "\n",
    "ocena_kobiety = dyson[dyson['Płeć kupującego']=='K']\n",
    "ocena_mezczyz = dyson[dyson['Płeć kupującego']=='M']\n",
    "ocena_bd = dyson[dyson['Płeć kupującego']=='bd.']\n",
    "\n",
    "x = ['Kobiety', 'Mezczyzni', 'Brak danych']\n",
    "x_1 = ['Kobiety']\n",
    "x_2 = ['Mezczyzni']\n",
    "x_3 = ['Brak danych']\n",
    "\n",
    "plt.bar(x_1, ocena_kobiety.mean(), color = 'm')\n",
    "plt.bar(x_2, ocena_mezczyz.mean(), color = 'b')\n",
    "plt.bar(x_3, ocena_bd.mean(), color = 'r')\n",
    "\n",
    "plt.title(\"Ocena marki Dyson ze wzgledu na plec\")\n",
    "plt.ylabel(\"Srednia ocena\")\n",
    "plt.grid()\n",
    "\n",
    "print('Srednia ocena kobiet marki Dyson:\\n',ocena_kobiety.mean())\n",
    "print('Srednia ocena mezczyz marki Dyson:\\n',ocena_mezczyz.mean())\n",
    "print('Brak danych:\\n',ocena_bd.mean())\n",
    "\n",
    "ocena_kobiety.to_csv(path_or_buf=f\"{data}Dyson_ocena_kobiety.csv\", sep=\";\")\n",
    "ocena_mezczyz.to_csv(path_or_buf=f\"{data}Dyson_ocena_mezczyz.csv\", sep=\";\")\n",
    "ocena_bd.to_csv(path_or_buf=f\"{data}Dyson_ocena_bd.csv\", sep=\";\")\n",
    "\n"
   ]
  },
  {
   "cell_type": "code",
   "execution_count": 192,
   "metadata": {},
   "outputs": [
    {
     "name": "stdout",
     "output_type": "stream",
     "text": [
      "Wiek kupującego    44.1\n",
      "dtype: float64\n",
      "Wiek kupującego    42.769231\n",
      "dtype: float64\n",
      "Wiek kupującego    48.6\n",
      "dtype: float64\n"
     ]
    },
    {
     "name": "stderr",
     "output_type": "stream",
     "text": [
      "C:\\Users\\Acer\\AppData\\Local\\Temp/ipykernel_8408/1190337009.py:11: FutureWarning: The default value of numeric_only in DataFrame.mean is deprecated. In a future version, it will default to False. In addition, specifying 'numeric_only=None' is deprecated. Select only valid columns or specify the value of numeric_only to silence this warning.\n",
      "  sr_wiek_k = wiek_kobiety.mean()\n",
      "C:\\Users\\Acer\\AppData\\Local\\Temp/ipykernel_8408/1190337009.py:12: FutureWarning: The default value of numeric_only in DataFrame.mean is deprecated. In a future version, it will default to False. In addition, specifying 'numeric_only=None' is deprecated. Select only valid columns or specify the value of numeric_only to silence this warning.\n",
      "  sr_wiek_m = wiek_mezczyz.mean()\n",
      "C:\\Users\\Acer\\AppData\\Local\\Temp/ipykernel_8408/1190337009.py:13: FutureWarning: The default value of numeric_only in DataFrame.mean is deprecated. In a future version, it will default to False. In addition, specifying 'numeric_only=None' is deprecated. Select only valid columns or specify the value of numeric_only to silence this warning.\n",
      "  sr_wiek_bd = wiek_bd.mean()\n"
     ]
    },
    {
     "data": {
      "image/png": "[encoded data removed]",
      "text/plain": [
       "<Figure size 432x288 with 1 Axes>"
      ]
     },
     "metadata": {},
     "output_type": "display_data"
    }
   ],
   "source": [
    "marka = tb_original_[['Marka','Wiek kupującego', 'Płeć kupującego']]\n",
    "Dyson_wiek = marka[marka['Marka']=='Dyson']\n",
    "wiek_kobiety = Dyson_wiek[Dyson_wiek['Płeć kupującego']=='K']\n",
    "wiek_mezczyz = Dyson_wiek[Dyson_wiek['Płeć kupującego']=='M']\n",
    "wiek_bd = Dyson_wiek[Dyson_wiek['Płeć kupującego']=='bd.']\n",
    "\n",
    "wiek_kobiety.to_csv(path_or_buf=f\"{data}DYSON_wiek_kobiety.csv\", sep=\";\")\n",
    "wiek_mezczyz.to_csv(path_or_buf=f\"{data}DYSON_wiek_mezczy.csv\", sep=\";\")\n",
    "wiek_bd.to_csv(path_or_buf=f\"{data}DYSON_wiek_bd.csv\", sep=\";\")\n",
    "\n",
    "sr_wiek_k = wiek_kobiety.mean()\n",
    "sr_wiek_m = wiek_mezczyz.mean()\n",
    "sr_wiek_bd = wiek_bd.mean()\n",
    "print(sr_wiek_k)\n",
    "print(sr_wiek_m)\n",
    "print(sr_wiek_bd)\n",
    "\n",
    "\n",
    "values = [44.1,42.769231, 48.6]\n",
    "labels = ['Kobiety', 'Mezczyzni', 'Brak Danych']\n",
    "plt.pie(values, labels=labels, autopct='%1.3f%%')\n",
    "plt.title(\"Procentowy wiek\")\n",
    "plt.show()"
   ]
  },
  {
   "cell_type": "code",
   "execution_count": 119,
   "metadata": {},
   "outputs": [
    {
     "name": "stdout",
     "output_type": "stream",
     "text": [
      "Liczba klientow ze wzgledu na plec\n",
      " bd.     98\n",
      "K      130\n",
      "M      238\n",
      "Name: Płeć kupującego, dtype: int64\n"
     ]
    },
    {
     "data": {
      "image/png": "[encoded data removed]",
      "text/plain": [
       "<Figure size 432x288 with 1 Axes>"
      ]
     },
     "metadata": {
      "needs_background": "light"
     },
     "output_type": "display_data"
    }
   ],
   "source": [
    "# sr_ocena = ocena_marki.mean(axis='Marka')\n",
    "\n",
    "plec = ocena_marki['Płeć kupującego'].value_counts(ascending=True)\n",
    "plt.plot(plec)\n",
    "print('Liczba klientow ze wzgledu na plec\\n', plec)\n",
    "plt.title(\"Liczba klientow ze wzgledu na plec\")\n",
    "plt.ylabel(\"Ilosc ludzi\")\n",
    "plt.grid()"
   ]
  }
 ],
 "metadata": {
  "kernelspec": {
   "display_name": "Python 3.10.8 64-bit",
   "language": "python",
   "name": "python3"
  },
  "language_info": {
   "codemirror_mode": {
    "name": "ipython",
    "version": 3
   },
   "file_extension": ".py",
   "mimetype": "text/x-python",
   "name": "python",
   "nbconvert_exporter": "python",
   "pygments_lexer": "ipython3",
   "version": "3.10.8"
  },
  "orig_nbformat": 4,
  "vscode": {
   "interpreter": {
    "hash": "58837b1b657ea91009af8409fc244ae3b5ccf93ea980d6fb6b80adc5f697f4cc"
   }
  }
 },
 "nbformat": 4,
 "nbformat_minor": 2
}

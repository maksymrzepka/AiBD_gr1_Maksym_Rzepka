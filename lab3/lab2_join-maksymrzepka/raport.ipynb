{
 "cells": [
  {
   "cell_type": "markdown",
   "metadata": {},
   "source": [
    "# <center>Laboratorium Analiza i bazy danych </center>\n",
    "\n",
    "## <center>Łączenie tabel, podzapytania i funkcje agregujące</center>"
   ]
  },
  {
   "cell_type": "markdown",
   "metadata": {},
   "source": [
    "## Przykładowe tabele obrazujące łączenie\n",
    "\n",
    "Do zobrazowania operacji łączenia zostaną użyte tabele:\n",
    "\n",
    "```sql\n",
    "CREATE TABLE shape_a (\n",
    "    id INT PRIMARY KEY,\n",
    "    shape VARCHAR (100) NOT NULL\n",
    ");\n",
    " \n",
    "CREATE TABLE shape_b (\n",
    "    id INT PRIMARY KEY,\n",
    "    shape VARCHAR (100) NOT NULL\n",
    ");\n",
    "```\n",
    " \n",
    "Polecenie CREATE TABLE tworzy tabelę o zadanej nazwie i strukturze. Ogólna postać to:\n",
    "```sql\n",
    "CREATE TABLE tab_name (\n",
    "    col_name1 data_type constrain,\n",
    "    col_name1 data_type constrain,\n",
    "    ...\n",
    ");\n",
    "```\n",
    "Należy uzupełnić ją danymi:\n",
    "```sql\n",
    "INSERT INTO shape_a (id, shape)\n",
    "VALUES\n",
    "    (1, 'Trójkąt'),\n",
    "    (2, 'Kwadrat'),\n",
    "    (3, 'Deltoid'),\n",
    "    (4, 'Traper');\n",
    " \n",
    "INSERT INTO shape_b (id, shape)\n",
    "VALUES\n",
    "    (1, 'Kwadrat'),\n",
    "    (2, 'Trójkąt'),\n",
    "    (3, 'Romb'),\n",
    "    (4, 'Równoległobok');\n",
    "```\n",
    "Komenda INSERT INTO pozwala na dodanie do tabeli rekordów. Ogólna postać to:\n",
    "\n",
    "```sql\n",
    "INSERT INTO tab_name (col1_name, col2_name2, ...) \n",
    "VALUES\n",
    "    (val1_col1, val2_col2),\n",
    "    (val2_col1, val2_col2),\n",
    "    ...\n",
    "```"
   ]
  },
  {
   "cell_type": "markdown",
   "metadata": {},
   "source": [
    "## Inner join \n",
    "\n",
    "Jest to podstawowy rodzaj złączenie. Ten sposób złączenia wybiera  te wiersze, dla których warunek złączenia jest spełniony. W żadnej z łączonych tabel kolumna użyta do łączenia nie może mieć wartości NULL. \n",
    "\n",
    "#### Przykład:\n",
    "```sql\n",
    "SELECT\n",
    "    a.id id_a,\n",
    "    a.shape shape_a,\n",
    "    b.id id_b,\n",
    "    b.shape shape_b\n",
    "FROM\n",
    "    shape_a a\n",
    "INNER JOIN shape_b b ON a.shape = b.shape;\n",
    "```\n",
    "W zapytaniu powyżej użyto *aliasów* nazw tabel i column wynikowych, jest to szczególnie przydatne przy długich nazwach tabel i wprowadza czytelność w zapytaniu.\n",
    "\n",
    "#### Wynik:\n",
    "|id_a|shape_a|id_b|shape_b|\n",
    "|-|-|-|-|\n",
    "|1|Trójkąt|2|Trójkąt|\n",
    "|2|Kwadrat|1|Kwadrat|"
   ]
  },
  {
   "cell_type": "markdown",
   "metadata": {},
   "source": [
    "## OUTER JOIN\n",
    "\n",
    "Istnieją trzy rodzaje złączeń OUTER:\n",
    "- LEFT OUTER JOIN,\n",
    "- RIGHT OUTER JOIN,\n",
    "- FULL OUTER JOIN.\n",
    "\n",
    "### LEFT OUTER JOIN\n",
    "\n",
    "Ten rodzaj złączenie zwróci wszystkie rekordy z lewej tablicy i dopasuje do nich rekordy z prawej tablicy które spełniją zadany warunek złączenia. Jeżeli w prawej tablicy nie występują rekordy spełnijące warunek złączenia z lewą w ich miejscu pojawią się wartości NULL.\n",
    "\n",
    "#### Przykład 1:\n",
    "```sql\n",
    "SELECT\n",
    "    a.id id_a,\n",
    "    a.shape shape_a,\n",
    "    b.id id_b,\n",
    "    b.shape shape_b\n",
    "FROM\n",
    "    shape_a a\n",
    "LEFT JOIN shape_b b ON a.shape = b.shape;\n",
    "```\n",
    "#### Wynik:\n",
    "|id_a|shape_a|id_b|shape_b|\n",
    "|-|-|-|-|\n",
    "|1|Trójkąt|2|Trójkąt|\n",
    "|2|Kwadrat|1|Kwadrat|\n",
    "|3|Deltoid|NULL|NULL|\n",
    "|4|Traper|NULL|NULL|\n",
    "\n",
    "#### Przykład 2:\n",
    "```sql\n",
    "SELECT\n",
    "    b.id id_b,\n",
    "    b.shape shape_b,\n",
    "    a.id id_a,\n",
    "    a.shape shape_a   \n",
    "FROM\n",
    "    shape_b b\n",
    "LEFT JOIN shape_a a ON a.shape = b.shape;\n",
    "```\n",
    "#### Wynik:\n",
    "|id_a|shape_a|id_b|shape_b|\n",
    "|-|-|-|-|\n",
    "|1|Kwadrat|2|Kwadrat|\n",
    "|2|Trójkąt|1|Trójkąt|\n",
    "|3|Romb|NULL|NULL|\n",
    "|4|Równoległobok|NULL|NULL|\n",
    "\n",
    "### RIGHT OUTER JOIN\n",
    "\n",
    "Działa jak left outer join z tym, że prawa tablica w zapytaniu jest brana w całości.\n",
    "\n",
    "#### Przykład:\n",
    "```sql\n",
    "SELECT\n",
    "    a.id id_a,\n",
    "    a.shape shape_a,\n",
    "    b.id id_b,\n",
    "    b.shape shape_b\n",
    "FROM\n",
    "    shape_a a\n",
    "RIGHT JOIN shape_b b ON a.shape = b.shape;\n",
    "```\n",
    "\n",
    "#### Wynik:\n",
    "|id_a|shape_a|id_b|shape_b|\n",
    "|-|-|-|-|\n",
    "|2|Kwadrat|1|Kwadrat|\n",
    "|1|Trójkąt|2|Trójkąt|\n",
    "|NULL|NULL|3|Romb|\n",
    "|NULL|NULL|4|Równoległobok|\n",
    "\n",
    "\n",
    "### FULL OUTER JOIN\n",
    "\n",
    "Jest złączeniem które zwraca:\n",
    "- wiersze dla których warunek złączenia jest spełniony,\n",
    "- wiersze z lewej tabeli dla których nie ma odpowiedników w prawej,\n",
    "- wiersze z prawej tabeli dla których nie ma odpowiedników w lewej. \n",
    "\n",
    "#### Przykład:\n",
    "```sql\n",
    "SELECT\n",
    "    a.id id_a,\n",
    "    a.shape shape_a,\n",
    "    b.id id_b,\n",
    "    b.shape shape_b\n",
    "FROM\n",
    "    shape_a a\n",
    "FULL JOIN shape_b b ON a.shape = b.shape;\n",
    "```\n",
    "|id_a|shape_a|id_b|shape_b|\n",
    "|-|-|-|-|\n",
    "|1|Trójkąt|2|Trójkąt|\n",
    "|2|Kwadrat|1|Kwadrat|\n",
    "|3|Deltoid\"|NULL|NULL|\n",
    "|4|Traper|NULL|NULL|\n",
    "|NULL|NULL|3|Romb|\n",
    "|NULL|NULL|4|Równoległobok|"
   ]
  },
  {
   "cell_type": "markdown",
   "metadata": {},
   "source": [
    "## Podzapytania\n",
    "\n",
    "Podzapytanie zagnieżdżone SELECT znajduje się wewnątrz zewnętrznego zapytania SELECT, np. po klauzuli WHERE, HAVING lub FROM. W przypadku tego rodzaju zapytań w pierwszej kolejności wykonywane są wewnętrzne zapytania SELECT, a ich wynik jest wykorzystywany do zewnętrznego zapytania SELECT. Stąd łatwo zuważyć, że mogą one służyć do poprawy wydajności obsługi zapytania. Należy dobierać podzapytania tak by najbardziej zagnieżdżone podzapytanie zawierało najmniejszy zbiór poszukiwań. \n",
    "\n",
    "#### Przykład:\n",
    "Jeżeli chcemy znaleźć w bazie informację o tytułach filmów zwróconych w zadanym okresie możemy wykonać następujące zapytanie:\n",
    "```sql\n",
    "SELECT\n",
    "   film_id,\n",
    "   title\n",
    "FROM\n",
    "   film\n",
    "WHERE\n",
    "   film_id IN (\n",
    "      SELECT\n",
    "         inventory.film_id\n",
    "      FROM\n",
    "         rental\n",
    "      INNER JOIN inventory ON inventory.inventory_id = rental.inventory_id\n",
    "      WHERE\n",
    "         return_date BETWEEN '2005-05-29'\n",
    "      AND '2005-05-30'\n",
    "   );\n",
    "```\n",
    "\n",
    "#### Wynik\n",
    "|film_id|title|\n",
    "|-|-|\n",
    "|307|Fellowship Autumn|\n",
    "|255|Driving Polish|\n",
    "|388|Gunfight Moon|\n",
    "|130|Celebrity Horn|\n",
    "|563|Massacre Usual|\n",
    "|397|Hanky October|\n",
    "|...|...|\n",
    "\n",
    "### Używanie podzapytań\n",
    "\n",
    "Pod zapytania mogą być używane w :\n",
    "- SELECT,\n",
    "- UPDATE,\n",
    "- DELETE,\n",
    "- Funkcjach agregujących,\n",
    "- Do definiowania tabel tymczasowych.\n",
    "\n",
    "Używając podzapytań zapytania SQL szybko mogą stać się mało czytelne. Przez co będą trudne w zrozumieniu i późniejszym utrzymaniu. W celu analizy zapytań można użyć klauzuli __EXPLAIN__, która przeanalizuje zapytanie. Klauzula ta może służyć również do porównywania wydajności zapytań\n",
    "\n",
    "#### Przykład:\n",
    "```sql\n",
    "EXPLAIN SELECT\n",
    "   *\n",
    "FROM\n",
    "   film\n",
    "```"
   ]
  },
  {
   "cell_type": "markdown",
   "metadata": {},
   "source": [
    "## Funkcje agregujące\n",
    "\n",
    "Funkcje agregujące wykonują obliczenia na zestawie wierszy i zwracają pojedynczy wiersz. PostgreSQL udostępnia wszystkie standardowe funkcje agregujące SQL w następujący sposób:\n",
    "- AVG () - zwraca średnią wartość.\n",
    "- COUNT () - zwraca liczbę wartości.\n",
    "- MAX () - zwraca maksymalną wartość.\n",
    "- MIN () - zwraca minimalną wartość.\n",
    "- SUM () - zwraca sumę wszystkich lub różnych wartości.\n",
    "\n",
    "Pełna lista funkcji agregującej: https://www.postgresql.org/docs/9.5/functions-aggregate.html\n",
    "\n",
    "Często używamy funkcji agregujących z klauzulą GROUP BY w instrukcji SELECT. W tych przypadkach klauzula GROUP BY dzieli zestaw wyników na grupy wierszy i funkcja agregująca wykonuje obliczenia dla każdej grupy, np. maksimum, minimum, średnia itp. Funkcji agregujących można używać funkcji agregujących jako wyrażeń tylko w następujących klauzulach: SELECT i HAVING.\n",
    "\n",
    "### GROUP BY\n",
    "Klauzula GROUP BY dzieli wiersze zwrócone z instrukcji SELECT na grupy. Dla  każdej grupy można zastosować funkcję agregującą, np. SUM aby obliczyć sumę pozycji lub\n",
    "COUNT aby uzyskać liczbę elementów w grupach.\n",
    "\n",
    "Poniższa instrukcja ilustruje składnię klauzuli GROUP BY:\n",
    "```sql\n",
    "SELECT \n",
    "    column_1, \n",
    "    aggregate_function(column_2)\n",
    "FROM \n",
    "    tbl_name\n",
    "GROUP BY \n",
    "    column_1;\n",
    "```\n",
    "Klauzula GROUP BY musi pojawić się zaraz po klauzuli FROM lub WHERE, n0astępnie GROUP BY zawiera listę  kolumna oddzielonych przecinkami. \n",
    "\n",
    "### HAVING\n",
    "Często używamy klauzuli HAVING w połączeniu z klauzulą GROUP BY do filtrowania wierszy grup\n",
    "które nie spełniają określonego warunku.\n",
    "\n",
    "Poniższa instrukcja ilustruje typową składnię klauzuli HAVING:\n",
    "```sql\n",
    "SELECT\n",
    "    column_1,\n",
    "    aggregate_function (column_2)\n",
    "FROM\n",
    "    tbl_name\n",
    "GROUP BY\n",
    "    column_1\n",
    "HAVING\n",
    "    condition;\n",
    "```\n",
    "Klauzula HAVING ustawia warunek dla wierszy grup utworzonych przez klauzulę GROUP BY.  \n",
    "\n",
    "Klauzula GROUP BY ma zastosowanie, podczas gdy klauzula WHERE określa wcześniej warunki dla poszczególnych wierszy."
   ]
  },
  {
   "cell_type": "markdown",
   "metadata": {},
   "source": [
    "## Zadania wprowadzające\n",
    "Wykonaj zapytania przy użyciu DBMS:  \n",
    "  \n",
    "1. Znajdź listę wszystkich filmów o tej samej długości.\n",
    "2. Znajdź wszystkich klientów mieszkających w tym samym mieście.\n",
    "3. Oblicz średni koszt wypożyczenia wszystkich filmów.\n",
    "4. Oblicz i wyświetl liczbę filmów we wszystkich kategoriach.\n",
    "5. Wyświetl liczbę wszystkich klientów pogrupowanych według kraju.\n",
    "6. Wyświetl informacje o sklepie, który ma więcej niż 100 klientów i mniej niż 300 klientów.\n",
    "7. Wybierz wszystkich klientów, którzy oglądali filmy ponad 200 godzin.\n",
    "8. Oblicz średnią wartość wypożyczenia filmu.\n",
    "9. Oblicz średnią wartość długości filmu we wszystkich kategoriach.\n",
    "10. Znajdź najdłuższe tytuły filmowe we wszystkich kategoriach.\n",
    "11. Znajdź najdłuższy film we wszystkich kategoriach. Porównaj wynik z pkt 10."
   ]
  },
  {
   "cell_type": "markdown",
   "metadata": {},
   "source": [
    "## Zadanie implementacyjne\n",
    "Zaimplementuj wszystkie funkcje w pliku main.py zgodnie z opisem a następnie przetestuj je w notatniku."
   ]
  },
  {
   "cell_type": "code",
   "execution_count": 19,
   "metadata": {},
   "outputs": [],
   "source": [
    "import main\n"
   ]
  },
  {
   "cell_type": "code",
   "execution_count": 20,
   "metadata": {},
   "outputs": [],
   "source": [
    "from sqlalchemy import create_engine\n",
    "import psycopg2 as pg\n",
    "import pandas as pd\n",
    "\n",
    "connection = pg.connect(host='pgsql-196447.vipserv.org', port=5432, dbname='wbauer_adb', user='wbauer_adb', password='adb2020')\n"
   ]
  },
  {
   "cell_type": "code",
   "execution_count": 21,
   "metadata": {},
   "outputs": [
    {
     "name": "stdout",
     "output_type": "stream",
     "text": [
      "     length                title\n",
      "0        46  Ridgemont Submarine\n",
      "1        46            Iron Moon\n",
      "2        46         Alien Center\n",
      "3        46        Kwai Homeward\n",
      "4        46     Labyrinth League\n",
      "..      ...                  ...\n",
      "995     185       Darn Forrester\n",
      "996     185    Sweet Brotherhood\n",
      "997     185   Soldiers Evolution\n",
      "998     185         Worst Banger\n",
      "999     185       Control Anthem\n",
      "\n",
      "[1000 rows x 2 columns]\n"
     ]
    },
    {
     "name": "stderr",
     "output_type": "stream",
     "text": [
      "C:\\Users\\Acer\\AppData\\Local\\Temp/ipykernel_26576/2888089081.py:4: UserWarning: pandas only supports SQLAlchemy connectable (engine/connection) or database string URI or sqlite3 DBAPI2 connection. Other DBAPI2 objects are not tested. Please consider using SQLAlchemy.\n",
      "  df =  pd.read_sql(\"\"\"select length, title\n"
     ]
    }
   ],
   "source": [
    "# ZADANIE 1\n",
    "# Znajdź listę wszystkich filmów o tej samej długości.\n",
    "\n",
    "df =  pd.read_sql(\"\"\"select length, title\n",
    "                     from film\n",
    "                     order by length\n",
    "                  \"\"\",con=connection)\n",
    "print(df)\n",
    "\n",
    "# wykorzystuje funkcje length w celu wyswietlenia wsystkich filmow w tej samej dlugosci"
   ]
  },
  {
   "cell_type": "code",
   "execution_count": 22,
   "metadata": {},
   "outputs": [
    {
     "name": "stderr",
     "output_type": "stream",
     "text": [
      "C:\\Users\\Acer\\AppData\\Local\\Temp/ipykernel_26576/3450202584.py:4: UserWarning: pandas only supports SQLAlchemy connectable (engine/connection) or database string URI or sqlite3 DBAPI2 connection. Other DBAPI2 objects are not tested. Please consider using SQLAlchemy.\n",
      "  df =  pd.read_sql(\"\"\"select count(customer.last_name), city.city\n"
     ]
    },
    {
     "name": "stdout",
     "output_type": "stream",
     "text": [
      "     count        city\n",
      "0        1    Pemalang\n",
      "1        1      Taguig\n",
      "2        1       Tokat\n",
      "3        1     Atlixco\n",
      "4        1    Mukateve\n",
      "..     ...         ...\n",
      "592      1      Warren\n",
      "593      1   Pingxiang\n",
      "594      1  Greensboro\n",
      "595      2      London\n",
      "596      2      Aurora\n",
      "\n",
      "[597 rows x 2 columns]\n",
      "     city first_name last_name\n",
      "0  London     Mattie   Hoffman\n",
      "1  London      Cecil     Vines\n",
      "2  Aurora      Scott   Shelley\n",
      "3  Aurora    Clinton    Buford\n"
     ]
    },
    {
     "name": "stderr",
     "output_type": "stream",
     "text": [
      "C:\\Users\\Acer\\AppData\\Local\\Temp/ipykernel_26576/3450202584.py:13: UserWarning: pandas only supports SQLAlchemy connectable (engine/connection) or database string URI or sqlite3 DBAPI2 connection. Other DBAPI2 objects are not tested. Please consider using SQLAlchemy.\n",
      "  df = pd.read_sql(\"\"\"select city.city, customer.first_name, customer.last_name\n"
     ]
    }
   ],
   "source": [
    "# ZADANIE 2\n",
    "# Znajdź wszystkich klientów mieszkających w tym samym mieście.\n",
    "\n",
    "df =  pd.read_sql(\"\"\"select count(customer.last_name), city.city\n",
    "                     from customer \n",
    "                     inner join address on customer.address_id = address.address_id\n",
    "                     inner join city on address.city_id = city.city_id\n",
    "                     group by city.city\n",
    "                     order by count(customer.last_name) asc\n",
    "                  \"\"\",con=connection)\n",
    "print(df)\n",
    "\n",
    "df = pd.read_sql(\"\"\"select city.city, customer.first_name, customer.last_name\n",
    "                    from customer \n",
    "                    inner join address on customer.address_id = address.address_id \n",
    "                    inner join city on address.city_id = city.city_id\n",
    "                    where city.city in ('London', 'Aurora')\n",
    "                    order by city desc\n",
    "                 \"\"\",con=connection)\n",
    "print(df)\n",
    "\n",
    "# w tym zadaniu najpierw pogrupowalem wszystkich klientow ktorzy potencjalnie mogliby mieszkac w tym samym miescie\n",
    "# a nastepnie wyszukalem ze sa to osoby z Londynu oraz z Aurora "
   ]
  },
  {
   "cell_type": "code",
   "execution_count": 23,
   "metadata": {},
   "outputs": [
    {
     "name": "stdout",
     "output_type": "stream",
     "text": [
      "        avg\n",
      "0  4.200606\n"
     ]
    },
    {
     "name": "stderr",
     "output_type": "stream",
     "text": [
      "C:\\Users\\Acer\\AppData\\Local\\Temp/ipykernel_26576/2326710971.py:4: UserWarning: pandas only supports SQLAlchemy connectable (engine/connection) or database string URI or sqlite3 DBAPI2 connection. Other DBAPI2 objects are not tested. Please consider using SQLAlchemy.\n",
      "  df = pd.read_sql(\"\"\"select avg(payment.amount)\n"
     ]
    }
   ],
   "source": [
    "# ZADANIE 3 \n",
    "# Oblicz średni koszt wypożyczenia wszystkich filmów.\n",
    "\n",
    "df = pd.read_sql(\"\"\"select avg(payment.amount)\n",
    "                    from payment \n",
    "                    inner join rental on payment.rental_id = rental.rental_id\n",
    "                    inner join inventory on rental.inventory_id = inventory.inventory_id \n",
    "                    inner join film on inventory.film_id = film.film_id\n",
    "                \"\"\",con=connection)\n",
    "print(df)\n",
    "\n",
    "# skorzystalem z funkcji avg, aby wyswietlic sredni koszt wypozyczenia filmow"
   ]
  },
  {
   "cell_type": "code",
   "execution_count": 24,
   "metadata": {},
   "outputs": [
    {
     "name": "stderr",
     "output_type": "stream",
     "text": [
      "C:\\Users\\Acer\\AppData\\Local\\Temp/ipykernel_26576/1537116976.py:4: UserWarning: pandas only supports SQLAlchemy connectable (engine/connection) or database string URI or sqlite3 DBAPI2 connection. Other DBAPI2 objects are not tested. Please consider using SQLAlchemy.\n",
      "  df = pd.read_sql(\"\"\"select category.name, count(film.title)\n"
     ]
    },
    {
     "name": "stdout",
     "output_type": "stream",
     "text": [
      "           name  count\n",
      "0        Sports     74\n",
      "1      Classics     57\n",
      "2           New     63\n",
      "3        Family     69\n",
      "4        Comedy     58\n",
      "5     Animation     66\n",
      "6        Travel     57\n",
      "7         Music     51\n",
      "8         Drama     62\n",
      "9        Horror     56\n",
      "10       Sci-Fi     61\n",
      "11        Games     61\n",
      "12  Documentary     68\n",
      "13      Foreign     73\n",
      "14       Action     64\n",
      "15     Children     60\n"
     ]
    }
   ],
   "source": [
    "# ZADANIE 4\n",
    "# Oblicz i wyświetl liczbę filmów we wszystkich kategoriach.\n",
    "\n",
    "df = pd.read_sql(\"\"\"select category.name, count(film.title)\n",
    "                    from film \n",
    "                    inner join film_category on film.film_id = film_category.film_id\n",
    "                    inner join category on film_category.category_id = category.category_id  \n",
    "                    group by category.name\n",
    "                \"\"\",con=connection)\n",
    "print(df)\n",
    "\n",
    "# w tym zadaniu pogrupowalem wszystkie kategorie filmow oraz obliczylem ile filmow nalezy do danej kategorii"
   ]
  },
  {
   "cell_type": "code",
   "execution_count": 25,
   "metadata": {},
   "outputs": [
    {
     "name": "stderr",
     "output_type": "stream",
     "text": [
      "C:\\Users\\Acer\\AppData\\Local\\Temp/ipykernel_26576/2156270871.py:4: UserWarning: pandas only supports SQLAlchemy connectable (engine/connection) or database string URI or sqlite3 DBAPI2 connection. Other DBAPI2 objects are not tested. Please consider using SQLAlchemy.\n",
      "  df = pd.read_sql(\"\"\"select count(customer.last_name), country.country\n"
     ]
    },
    {
     "name": "stdout",
     "output_type": "stream",
     "text": [
      "     count               country\n",
      "0        1           Afghanistan\n",
      "1        3               Algeria\n",
      "2        1        American Samoa\n",
      "3        2                Angola\n",
      "4        1              Anguilla\n",
      "..     ...                   ...\n",
      "103      6               Vietnam\n",
      "104      1  Virgin Islands, U.S.\n",
      "105      4                 Yemen\n",
      "106      2            Yugoslavia\n",
      "107      1                Zambia\n",
      "\n",
      "[108 rows x 2 columns]\n"
     ]
    }
   ],
   "source": [
    "# ZADANIE 5\n",
    "# Wyświetl liczbę wszystkich klientów pogrupowanych według kraju.\n",
    "\n",
    "df = pd.read_sql(\"\"\"select count(customer.last_name), country.country\n",
    "                    from customer \n",
    "                    inner join address on customer.address_id = address.address_id \n",
    "                    inner join city on address.city_id = city.city_id \n",
    "                    inner join country on city.country_id = country.country_id\n",
    "                    group by country.country\n",
    "                    order by country.country asc\n",
    "                 \"\"\",con=connection)\n",
    "print(df)\n",
    "\n",
    "# w tym zadaniu z wykorzystaniem funkcji count wyliczylem wszystkich klientow a nastepnie pogrupowalem ich wedlug kraju"
   ]
  },
  {
   "cell_type": "code",
   "execution_count": 33,
   "metadata": {},
   "outputs": [
    {
     "name": "stdout",
     "output_type": "stream",
     "text": [
      "              address  count\n",
      "0  28 MySQL Boulevard   8004\n",
      "1   47 MySakila Drive   8040\n"
     ]
    },
    {
     "name": "stderr",
     "output_type": "stream",
     "text": [
      "C:\\Users\\Acer\\AppData\\Local\\Temp/ipykernel_26576/2836171324.py:4: UserWarning: pandas only supports SQLAlchemy connectable (engine/connection) or database string URI or sqlite3 DBAPI2 connection. Other DBAPI2 objects are not tested. Please consider using SQLAlchemy.\n",
      "  df = pd.read_sql(\"\"\"select address.address, count(customer.last_name)\n"
     ]
    }
   ],
   "source": [
    "# ZADANIE 6\n",
    "# Wyświetl informacje o sklepie, który ma więcej niż 100 klientów i mniej niż 300 klientów. \n",
    "\n",
    "df = pd.read_sql(\"\"\"select address.address, count(customer.last_name)\n",
    "                    from customer\n",
    "                    inner join rental on customer.customer_id = rental.customer_id\n",
    "                    inner join staff on rental.staff_id = staff.staff_id\n",
    "                    inner join store on staff.store_id = store.store_id\n",
    "                    inner join address on store.address_id = address.address_id\n",
    "                    group by address.address \n",
    "                    order by count(customer.last_name) > 100 and count(customer.last_name) < 300 \n",
    "                 \"\"\",con=connection)\n",
    "print(df)"
   ]
  },
  {
   "cell_type": "code",
   "execution_count": 27,
   "metadata": {},
   "outputs": [
    {
     "name": "stderr",
     "output_type": "stream",
     "text": [
      "C:\\Users\\Acer\\AppData\\Local\\Temp/ipykernel_26576/2744321139.py:4: UserWarning: pandas only supports SQLAlchemy connectable (engine/connection) or database string URI or sqlite3 DBAPI2 connection. Other DBAPI2 objects are not tested. Please consider using SQLAlchemy.\n",
      "  df = pd.read_sql(\"\"\"select customer.last_name, count(film.length)\n"
     ]
    },
    {
     "name": "stdout",
     "output_type": "stream",
     "text": [
      "Empty DataFrame\n",
      "Columns: [last_name, count]\n",
      "Index: []\n"
     ]
    }
   ],
   "source": [
    "# ZADANIE 7\n",
    "# Wybierz wszystkich klientów, którzy oglądali filmy ponad 200 godzin.\n",
    "\n",
    "df = pd.read_sql(\"\"\"select customer.last_name, count(film.length)\n",
    "                    from customer\n",
    "                    inner join rental on customer.customer_id = rental.customer_id\n",
    "                    inner join inventory on rental.inventory_id = inventory.inventory_id\n",
    "                    inner join film on inventory.film_id = film.film_id\n",
    "                    group by customer.last_name \n",
    "                    having count(film.length) > 200\n",
    "                \"\"\",con=connection)\n",
    "print(df)\n",
    "\n",
    "# z moich obliczen wyszlo ze zadnen klient nie ogladal zadnego filmu, ktory trwal ponad 200 godzin"
   ]
  },
  {
   "cell_type": "code",
   "execution_count": 28,
   "metadata": {},
   "outputs": [
    {
     "name": "stderr",
     "output_type": "stream",
     "text": [
      "C:\\Users\\Acer\\AppData\\Local\\Temp/ipykernel_26576/1296869088.py:4: UserWarning: pandas only supports SQLAlchemy connectable (engine/connection) or database string URI or sqlite3 DBAPI2 connection. Other DBAPI2 objects are not tested. Please consider using SQLAlchemy.\n",
      "  df = pd.read_sql(\"\"\"select avg(rental_rate)\n"
     ]
    },
    {
     "name": "stdout",
     "output_type": "stream",
     "text": [
      "    avg\n",
      "0  2.98\n"
     ]
    }
   ],
   "source": [
    "# ZADANIE 8\n",
    "# Oblicz średnią wartość wypożyczenia filmu\n",
    "\n",
    "df = pd.read_sql(\"\"\"select avg(rental_rate) \n",
    "                    from film \n",
    "                 \"\"\",con=connection)\n",
    "print(df)\n",
    "\n",
    "# wystarczylo wykorzysac funkcje avg w kolumnie \"film\", aby wyliczyc srednia wartosc wypozyczenia filmu"
   ]
  },
  {
   "cell_type": "code",
   "execution_count": 29,
   "metadata": {},
   "outputs": [
    {
     "name": "stdout",
     "output_type": "stream",
     "text": [
      "           name         avg\n",
      "0        Travel  113.315789\n",
      "1        Sports  128.202703\n",
      "2        Sci-Fi  108.196721\n",
      "3           New  111.126984\n",
      "4         Music  113.647059\n",
      "5        Horror  112.482143\n",
      "6         Games  127.836066\n",
      "7       Foreign  121.698630\n",
      "8        Family  114.782609\n",
      "9         Drama  120.838710\n",
      "10  Documentary  108.750000\n",
      "11       Comedy  115.827586\n",
      "12     Classics  111.666667\n",
      "13     Children  109.800000\n",
      "14    Animation  111.015152\n",
      "15       Action  111.609375\n"
     ]
    },
    {
     "name": "stderr",
     "output_type": "stream",
     "text": [
      "C:\\Users\\Acer\\AppData\\Local\\Temp/ipykernel_26576/3910269141.py:4: UserWarning: pandas only supports SQLAlchemy connectable (engine/connection) or database string URI or sqlite3 DBAPI2 connection. Other DBAPI2 objects are not tested. Please consider using SQLAlchemy.\n",
      "  df = pd.read_sql(\"\"\"select category.name, avg(film.length)\n"
     ]
    }
   ],
   "source": [
    "# ZADANIE 9\n",
    "# Oblicz średnią wartość długości filmu we wszystkich kategoriach.\n",
    "\n",
    "df = pd.read_sql(\"\"\"select category.name, avg(film.length) \n",
    "                    from category \n",
    "                    inner join film_category on category.category_id = film_category.category_id\n",
    "                    inner join film on film.film_id = film_category.film_id\n",
    "                    group by category.name\n",
    "                    order by category.name desc\n",
    "                 \"\"\",con=connection)\n",
    "print(df)\n",
    "\n",
    "# wykorzystuje funkcje avg i przeskakuje po odpowiednich kolumnach w celu wyliczenia sredniej wartosci dlugosci filmu kazdej kategorii"
   ]
  },
  {
   "cell_type": "code",
   "execution_count": 30,
   "metadata": {},
   "outputs": [
    {
     "name": "stdout",
     "output_type": "stream",
     "text": [
      "                   title  length\n",
      "0              Home Pity     185\n",
      "1          Muscle Bright     185\n",
      "2         Darn Forrester     185\n",
      "3      Sweet Brotherhood     185\n",
      "4           Worst Banger     185\n",
      "..                   ...     ...\n",
      "995            Iron Moon      46\n",
      "996         Alien Center      46\n",
      "997        Kwai Homeward      46\n",
      "998  Ridgemont Submarine      46\n",
      "999     Labyrinth League      46\n",
      "\n",
      "[1000 rows x 2 columns]\n"
     ]
    },
    {
     "name": "stderr",
     "output_type": "stream",
     "text": [
      "C:\\Users\\Acer\\AppData\\Local\\Temp/ipykernel_26576/1813430194.py:4: UserWarning: pandas only supports SQLAlchemy connectable (engine/connection) or database string URI or sqlite3 DBAPI2 connection. Other DBAPI2 objects are not tested. Please consider using SQLAlchemy.\n",
      "  df = pd.read_sql(\"\"\"select film.title, film.length\n"
     ]
    }
   ],
   "source": [
    "# ZADANIE 10\n",
    "# Znajdź najdłuższe tytuły filmowe we wszystkich kategoriach.\n",
    "\n",
    "df = pd.read_sql(\"\"\"select film.title, film.length \n",
    "                    from category \n",
    "                    inner join film_category on category.category_id = film_category.category_id\n",
    "                    inner join film on film.film_id = film_category.film_id\n",
    "                    order by film.length desc\n",
    "                 \"\"\",con=connection)\n",
    "print(df)\n",
    "\n",
    "# to zadnie bylo bardzo podobne do 9, zmienilem tylko wartosci, ktore potrzebowalem do wyprintowania:)\n",
    "# przeskakiwanie po katalogach takie samo jak w zadaniu wyzej"
   ]
  },
  {
   "cell_type": "code",
   "execution_count": 31,
   "metadata": {},
   "outputs": [
    {
     "name": "stdout",
     "output_type": "stream",
     "text": [
      "   film_category  max_length\n",
      "0       Children         178\n",
      "1          Drama         181\n",
      "2         Horror         181\n",
      "3    Documentary         183\n",
      "4            New         183\n",
      "5       Classics         184\n",
      "6         Sports         184\n",
      "7         Family         184\n",
      "8        Foreign         184\n",
      "9         Action         185\n",
      "10        Sci-Fi         185\n",
      "11         Games         185\n",
      "12     Animation         185\n",
      "13        Travel         185\n",
      "14         Music         185\n",
      "15        Comedy         185\n"
     ]
    },
    {
     "name": "stderr",
     "output_type": "stream",
     "text": [
      "C:\\Users\\Acer\\AppData\\Local\\Temp/ipykernel_26576/4164515833.py:4: UserWarning: pandas only supports SQLAlchemy connectable (engine/connection) or database string URI or sqlite3 DBAPI2 connection. Other DBAPI2 objects are not tested. Please consider using SQLAlchemy.\n",
      "  df = pd.read_sql(\"\"\"select category.name as film_category, max(film.length) as max_length\n"
     ]
    }
   ],
   "source": [
    "# ZADANIE 11\n",
    "# Znajdź najdłuższy film we wszystkich kategoriach. Porównaj wynik z pkt 10.\n",
    "\n",
    "df = pd.read_sql(\"\"\"select category.name as film_category, max(film.length) as max_length\n",
    "                    from category \n",
    "                    inner join film_category on category.category_id = film_category.category_id\n",
    "                    inner join film on film.film_id = film_category.film_id\n",
    "                    group by category.name\n",
    "                    order by max(film.length)\n",
    "                 \"\"\",con=connection)\n",
    "print(df)\n",
    "\n"
   ]
  },
  {
   "cell_type": "code",
   "execution_count": null,
   "metadata": {},
   "outputs": [],
   "source": []
  }
 ],
 "metadata": {
  "kernelspec": {
   "display_name": "Python 3.10.8 64-bit",
   "language": "python",
   "name": "python3"
  },
  "language_info": {
   "codemirror_mode": {
    "name": "ipython",
    "version": 3
   },
   "file_extension": ".py",
   "mimetype": "text/x-python",
   "name": "python",
   "nbconvert_exporter": "python",
   "pygments_lexer": "ipython3",
   "version": "3.10.8"
  },
  "vscode": {
   "interpreter": {
    "hash": "58837b1b657ea91009af8409fc244ae3b5ccf93ea980d6fb6b80adc5f697f4cc"
   }
  }
 },
 "nbformat": 4,
 "nbformat_minor": 2
}
